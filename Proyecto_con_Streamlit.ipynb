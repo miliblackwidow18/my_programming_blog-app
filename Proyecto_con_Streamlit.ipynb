{
  "nbformat": 4,
  "nbformat_minor": 0,
  "metadata": {
    "colab": {
      "provenance": [],
      "authorship_tag": "ABX9TyNkoayJ1zGp5BGQ5IuBHli5",
      "include_colab_link": true
    },
    "kernelspec": {
      "name": "python3",
      "display_name": "Python 3"
    },
    "language_info": {
      "name": "python"
    }
  },
  "cells": [
    {
      "cell_type": "markdown",
      "metadata": {
        "id": "view-in-github",
        "colab_type": "text"
      },
      "source": [
        "<a href=\"https://colab.research.google.com/github/miliblackwidow18/my_programming_blog-app/blob/main/Proyecto_con_Streamlit.ipynb\" target=\"_parent\"><img src=\"https://colab.research.google.com/assets/colab-badge.svg\" alt=\"Open In Colab\"/></a>"
      ]
    },
    {
      "cell_type": "code",
      "execution_count": 2,
      "metadata": {
        "id": "YpaSNCuZ8p-h"
      },
      "outputs": [],
      "source": [
        "pip install streamlit -q"
      ]
    },
    {
      "cell_type": "code",
      "source": [
        "pip install streamlit -lottie"
      ],
      "metadata": {
        "colab": {
          "base_uri": "https://localhost:8080/"
        },
        "id": "nsHb1v6l9EPm",
        "outputId": "ab3017e6-8c29-404d-d8b2-3359a9bea01f"
      },
      "execution_count": 3,
      "outputs": [
        {
          "output_type": "stream",
          "name": "stdout",
          "text": [
            "\n",
            "Usage:   \n",
            "  pip3 install [options] <requirement specifier> [package-index-options] ...\n",
            "  pip3 install [options] -r <requirements file> [package-index-options] ...\n",
            "  pip3 install [options] [-e] <vcs project url> ...\n",
            "  pip3 install [options] [-e] <local project path> ...\n",
            "  pip3 install [options] <archive url/path> ...\n",
            "\n",
            "no such option: -l\n"
          ]
        }
      ]
    },
    {
      "cell_type": "code",
      "source": [
        "pip install Pillow"
      ],
      "metadata": {
        "colab": {
          "base_uri": "https://localhost:8080/"
        },
        "id": "bRcSAwAI-Bvj",
        "outputId": "54dfda44-a53c-450d-b300-43e6a12afc6f"
      },
      "execution_count": 4,
      "outputs": [
        {
          "output_type": "stream",
          "name": "stdout",
          "text": [
            "Requirement already satisfied: Pillow in /usr/local/lib/python3.10/dist-packages (11.0.0)\n"
          ]
        }
      ]
    },
    {
      "cell_type": "code",
      "source": [
        "%%writefile app.py\n",
        "\n",
        "import streamlit as st\n",
        "import requests\n",
        "from streamlit_lottie import st_lottie\n",
        "from PIL import Image\n",
        "\n",
        "# Función para la animación\n",
        "def load_lottieurl(url):\n",
        "  r = requests.get(url)\n",
        "  if r.status_code != 200:\n",
        "    return None\n",
        "  return r.json()\n",
        "lottie_coding = load_lottieurl(\"https://lottie.host/embed/0892227b-555d-4f78-b212-54ac4d013634/ePWAbX4rml.json\")\n",
        "\n",
        "with st.container():\n",
        "  st.subheader(\"¡Bienvenido viajero programador!🕹️\")\n",
        "  st.title(\"El blog de una principiante en Python\")\n",
        "  st.write(\"Esta es una página interactiva en donde comparto y tu también puedes compartir con el mundo 🌎 tu experiencia aprendiendo el lenguaje de programación 'Python'\")\n",
        "\n",
        "with st.container():\n",
        "  st.write(\"---\")\n",
        "  left_column, right_column = st.columns(2)\n",
        "  with left_column:\n",
        "    st.header(\"Mi experiencia personal\")\n",
        "    st.write(\n",
        "        \"\"\"\n",
        "        ¡Bienvenido a mi página web aventurero programador! Mi experiencia aprendiendo el lenguaje de programación Python ha sido muy interesante y me resultó bastante entretenida. Anteriormente no contaba con ningún tipo experiencia en cuanto a la programación o la búsqueda de una fuerte cantidad de data; sin embargo, mientras aprendía desde los conceptos más simples como definir una variable o imprimir un 'string' hasta aquellos que no lo eran tanto, como emplear condicionales, bucles y diccionarios, descubrí que Python, no solo es un lenguaje 'sencillo' requerido por aquellos que desean iniciar en el mundo de la programación, sino que también es una gran herramienta que automatiza tareas, soluciona problemas y ahorra muchísimo tiempo al momento de realizar tareas (si sabes lo que haces, claro 👀)\n",
        "        \"\"\"\n",
        "    )\n",
        "\n",
        "  with right_column:\n",
        "    st_lottie(lottie_coding, height=300, key= \"coding\")\n",
        ""
      ],
      "metadata": {
        "colab": {
          "base_uri": "https://localhost:8080/"
        },
        "id": "RdLRn0MQ_XOa",
        "outputId": "0dbc0ed3-5945-4e7a-e675-3fa1835b5a72"
      },
      "execution_count": 8,
      "outputs": [
        {
          "output_type": "stream",
          "name": "stdout",
          "text": [
            "Overwriting app.py\n"
          ]
        }
      ]
    }
  ]
}